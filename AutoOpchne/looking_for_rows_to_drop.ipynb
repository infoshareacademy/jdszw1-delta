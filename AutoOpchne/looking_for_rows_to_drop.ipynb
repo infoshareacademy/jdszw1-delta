{
 "cells": [
  {
   "cell_type": "code",
   "execution_count": 7,
   "metadata": {},
   "outputs": [],
   "source": [
    "import pandas as pd\n",
    "import seaborn as sns\n",
    "import numpy as np"
   ]
  },
  {
   "cell_type": "code",
   "execution_count": null,
   "metadata": {},
   "outputs": [],
   "source": []
  },
  {
   "cell_type": "code",
   "execution_count": null,
   "metadata": {},
   "outputs": [],
   "source": []
  },
  {
   "cell_type": "code",
   "execution_count": null,
   "metadata": {},
   "outputs": [],
   "source": []
  },
  {
   "cell_type": "code",
   "execution_count": 8,
   "metadata": {},
   "outputs": [],
   "source": [
    "data = pd.read_csv('AAAutoSprzedam_data.csv', sep=';')"
   ]
  },
  {
   "cell_type": "code",
   "execution_count": null,
   "metadata": {
    "scrolled": true
   },
   "outputs": [],
   "source": [
    "data.sort_values(by='make_name').groupby('make_name').size()"
   ]
  },
  {
   "cell_type": "code",
   "execution_count": 9,
   "metadata": {},
   "outputs": [],
   "source": [
    "data_mn = data.make_name"
   ]
  },
  {
   "cell_type": "code",
   "execution_count": 12,
   "metadata": {},
   "outputs": [],
   "source": [
    "data_mn = data.sort_values(by='make_name').groupby('make_name').size()"
   ]
  },
  {
   "cell_type": "code",
   "execution_count": null,
   "metadata": {},
   "outputs": [],
   "source": [
    "data_mn.describe()"
   ]
  },
  {
   "cell_type": "code",
   "execution_count": null,
   "metadata": {},
   "outputs": [],
   "source": [
    "data_mn.shape"
   ]
  },
  {
   "cell_type": "code",
   "execution_count": null,
   "metadata": {},
   "outputs": [],
   "source": [
    "for n in data_mn:\n",
    "  if n <= 100:\n",
    "    continue\n",
    "  print(n)"
   ]
  },
  {
   "cell_type": "code",
   "execution_count": 13,
   "metadata": {},
   "outputs": [],
   "source": [
    "data_lh = data_mn.where(data_mn>=150)"
   ]
  },
  {
   "cell_type": "code",
   "execution_count": null,
   "metadata": {},
   "outputs": [],
   "source": [
    "data_mh = data_mn.where(data_mn<100)"
   ]
  },
  {
   "cell_type": "code",
   "execution_count": null,
   "metadata": {
    "scrolled": true
   },
   "outputs": [],
   "source": [
    "data_mh"
   ]
  },
  {
   "cell_type": "code",
   "execution_count": null,
   "metadata": {
    "scrolled": true
   },
   "outputs": [],
   "source": [
    "data_mh.dropna()"
   ]
  },
  {
   "cell_type": "code",
   "execution_count": 14,
   "metadata": {},
   "outputs": [
    {
     "data": {
      "text/plain": [
       "make_name\n",
       "AC                   NaN\n",
       "Abarth               NaN\n",
       "Aixam                NaN\n",
       "Alfa Romeo         532.0\n",
       "Alpina               NaN\n",
       "Alpine               NaN\n",
       "Amphicar             NaN\n",
       "Aston Martin         NaN\n",
       "Audi              3313.0\n",
       "Austin               NaN\n",
       "BMW               4554.0\n",
       "Bentley              NaN\n",
       "Buick                NaN\n",
       "Cadillac             NaN\n",
       "Caravans-Wohnm       NaN\n",
       "Casalini             NaN\n",
       "Chatenet             NaN\n",
       "Chevrolet          485.0\n",
       "Chrysler             NaN\n",
       "Citroen           3017.0\n",
       "Corvette             NaN\n",
       "DFSK                 NaN\n",
       "DS Automobiles       NaN\n",
       "Dacia              440.0\n",
       "Daewoo               NaN\n",
       "Daihatsu           197.0\n",
       "Daimler              NaN\n",
       "De Tomaso            NaN\n",
       "Dodge                NaN\n",
       "Donkervoort          NaN\n",
       "                   ...  \n",
       "Microcar             NaN\n",
       "Mitsubishi        1067.0\n",
       "Morgan               NaN\n",
       "Nissan            2016.0\n",
       "Oldsmobile           NaN\n",
       "Oldtimer             NaN\n",
       "Opel              5218.0\n",
       "Others               NaN\n",
       "Peugeot           5446.0\n",
       "Piaggio              NaN\n",
       "Pontiac              NaN\n",
       "Porsche            524.0\n",
       "Renault           6956.0\n",
       "Rolls-Royce          NaN\n",
       "Rover                NaN\n",
       "SEAT              1773.0\n",
       "Saab               186.0\n",
       "Skoda             1516.0\n",
       "SsangYong            NaN\n",
       "Subaru             163.0\n",
       "Suzuki            1312.0\n",
       "TVR                  NaN\n",
       "Tata                 NaN\n",
       "Tesla                NaN\n",
       "Toyota            3924.0\n",
       "Triumph              NaN\n",
       "Trucks-Lkw           NaN\n",
       "Volkswagen        9430.0\n",
       "Volvo             3994.0\n",
       "smart              183.0\n",
       "Length: 91, dtype: float64"
      ]
     },
     "execution_count": 14,
     "metadata": {},
     "output_type": "execute_result"
    }
   ],
   "source": [
    "data_lh"
   ]
  },
  {
   "cell_type": "code",
   "execution_count": 21,
   "metadata": {
    "scrolled": true
   },
   "outputs": [],
   "source": [
    "data_lh = data_lh.dropna()"
   ]
  },
  {
   "cell_type": "code",
   "execution_count": 22,
   "metadata": {},
   "outputs": [
    {
     "data": {
      "text/plain": [
       "array(['Alfa Romeo', 'Audi', 'BMW', 'Chevrolet', 'Citroen', 'Dacia',\n",
       "       'Daihatsu', 'Fiat', 'Ford', 'Honda', 'Hyundai', 'Iveco', 'Jaguar',\n",
       "       'Jeep', 'Kia', 'Land Rover', 'Lexus', 'MINI', 'Mazda',\n",
       "       'Mercedes-Benz', 'Mitsubishi', 'Nissan', 'Opel', 'Peugeot',\n",
       "       'Porsche', 'Renault', 'SEAT', 'Saab', 'Skoda', 'Subaru', 'Suzuki',\n",
       "       'Toyota', 'Volkswagen', 'Volvo', 'smart'], dtype=object)"
      ]
     },
     "execution_count": 22,
     "metadata": {},
     "output_type": "execute_result"
    }
   ],
   "source": [
    "data_lh.index.values"
   ]
  },
  {
   "cell_type": "code",
   "execution_count": null,
   "metadata": {},
   "outputs": [],
   "source": [
    "data_to_drop = data_mn.where(data_mn<84)"
   ]
  },
  {
   "cell_type": "code",
   "execution_count": null,
   "metadata": {
    "scrolled": true
   },
   "outputs": [],
   "source": [
    "data_to_drop.dropna()"
   ]
  },
  {
   "cell_type": "code",
   "execution_count": null,
   "metadata": {},
   "outputs": [],
   "source": [
    "data_to_drop.AC"
   ]
  },
  {
   "cell_type": "code",
   "execution_count": null,
   "metadata": {},
   "outputs": [],
   "source": [
    "index_list = data_to_drop.index.values "
   ]
  },
  {
   "cell_type": "code",
   "execution_count": null,
   "metadata": {},
   "outputs": [],
   "source": [
    "data_to_leave = data_mn.where(data_mn>=150)"
   ]
  },
  {
   "cell_type": "code",
   "execution_count": null,
   "metadata": {
    "scrolled": true
   },
   "outputs": [],
   "source": [
    "data_to_leave = data_to_leave.dropna()"
   ]
  },
  {
   "cell_type": "code",
   "execution_count": null,
   "metadata": {},
   "outputs": [],
   "source": [
    "data_to_leave"
   ]
  },
  {
   "cell_type": "code",
   "execution_count": null,
   "metadata": {},
   "outputs": [],
   "source": [
    "index_list1 = data_to_leave.index.values"
   ]
  },
  {
   "cell_type": "code",
   "execution_count": null,
   "metadata": {},
   "outputs": [],
   "source": [
    "index_list1"
   ]
  },
  {
   "cell_type": "code",
   "execution_count": null,
   "metadata": {
    "scrolled": true
   },
   "outputs": [],
   "source": [
    "#for i in index_list1:\n",
    "   #print(data[data['make_name'].isin([f'{i}'])])"
   ]
  },
  {
   "cell_type": "code",
   "execution_count": null,
   "metadata": {},
   "outputs": [],
   "source": []
  },
  {
   "cell_type": "code",
   "execution_count": null,
   "metadata": {},
   "outputs": [],
   "source": [
    "\n",
    "\n",
    "cut_data = data[data['make_name'].isin(['Alfa Romeo', 'Audi', 'BMW', 'Caravans-Wohnm', 'Chevrolet',\n",
    "       'Chrysler', 'Citroen', 'Dacia', 'Daewoo', 'Daihatsu', 'Dodge',\n",
    "       'Fiat', 'Ford', 'Honda', 'Hyundai', 'Iveco', 'Jaguar', 'Jeep',\n",
    "       'Kia', 'Lancia', 'Land Rover', 'Lexus', 'MINI', 'Mazda',\n",
    "       'Mercedes-Benz', 'Mitsubishi', 'Nissan', 'Oldtimer', 'Opel',\n",
    "       'Peugeot', 'Porsche', 'Renault', 'SEAT', 'Saab', 'Skoda', 'Subaru',\n",
    "       'Suzuki', 'Tesla', 'Toyota', 'Volkswagen', 'Volvo', 'smart'])]\n"
   ]
  },
  {
   "cell_type": "code",
   "execution_count": null,
   "metadata": {
    "scrolled": true
   },
   "outputs": [],
   "source": [
    "cut_data.groupby('make_name').count()"
   ]
  },
  {
   "cell_type": "code",
   "execution_count": null,
   "metadata": {},
   "outputs": [],
   "source": [
    "cut_data.to_csv(r'cut_data.csv')\n"
   ]
  },
  {
   "cell_type": "code",
   "execution_count": null,
   "metadata": {},
   "outputs": [],
   "source": [
    "cut_data.head(10)"
   ]
  }
 ],
 "metadata": {
  "kernelspec": {
   "display_name": "Python 3",
   "language": "python",
   "name": "python3"
  },
  "language_info": {
   "codemirror_mode": {
    "name": "ipython",
    "version": 3
   },
   "file_extension": ".py",
   "mimetype": "text/x-python",
   "name": "python",
   "nbconvert_exporter": "python",
   "pygments_lexer": "ipython3",
   "version": "3.7.3"
  }
 },
 "nbformat": 4,
 "nbformat_minor": 2
}
