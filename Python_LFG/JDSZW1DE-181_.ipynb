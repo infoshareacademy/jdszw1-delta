{
 "cells": [
  {
   "cell_type": "code",
   "execution_count": 11,
   "metadata": {},
   "outputs": [],
   "source": [
    "import pandas as pd\n",
    "import numpy as np\n",
    "import matplotlib.pyplot as plt\n",
    "import math as math\n",
    "import seaborn as sns\n",
    "#from jupyterthemes import jtplot\n",
    "#jtplot.style()\n",
    "#jtplot.style(theme='onedork')\n",
    "import random\n",
    "from datetime import datetime\n",
    "%matplotlib inline\n",
    "#%pylab inline"
   ]
  },
  {
   "cell_type": "markdown",
   "metadata": {},
   "source": [
    "# Implementacja LFG i generowanie rozkładu normalnego na ich podstawie"
   ]
  },
  {
   "cell_type": "code",
   "execution_count": 17,
   "metadata": {},
   "outputs": [
    {
     "ename": "IndexError",
     "evalue": "list index out of range",
     "output_type": "error",
     "traceback": [
      "\u001b[0;31m---------------------------------------------------------------------------\u001b[0m",
      "\u001b[0;31mIndexError\u001b[0m                                Traceback (most recent call last)",
      "\u001b[0;32m<ipython-input-17-c8fa1f6ecd5d>\u001b[0m in \u001b[0;36m<module>\u001b[0;34m\u001b[0m\n\u001b[1;32m     14\u001b[0m \u001b[0;34m\u001b[0m\u001b[0m\n\u001b[1;32m     15\u001b[0m \u001b[0;32mfor\u001b[0m \u001b[0mn\u001b[0m \u001b[0;32min\u001b[0m \u001b[0mrange\u001b[0m\u001b[0;34m(\u001b[0m\u001b[0mint\u001b[0m\u001b[0;34m(\u001b[0m\u001b[0mLFGpop\u001b[0m\u001b[0;34m)\u001b[0m\u001b[0;34m)\u001b[0m\u001b[0;34m:\u001b[0m\u001b[0;34m\u001b[0m\u001b[0;34m\u001b[0m\u001b[0m\n\u001b[0;32m---> 16\u001b[0;31m         \u001b[0mop\u001b[0m \u001b[0;34m=\u001b[0m \u001b[0;34m(\u001b[0m\u001b[0ms\u001b[0m\u001b[0;34m[\u001b[0m\u001b[0mj\u001b[0m\u001b[0;34m-\u001b[0m\u001b[0;36m1\u001b[0m\u001b[0;34m]\u001b[0m \u001b[0;34m+\u001b[0m \u001b[0ms\u001b[0m\u001b[0;34m[\u001b[0m\u001b[0mk\u001b[0m\u001b[0;34m-\u001b[0m\u001b[0;36m1\u001b[0m\u001b[0;34m]\u001b[0m\u001b[0;34m)\u001b[0m \u001b[0;34m%\u001b[0m \u001b[0;36m1000\u001b[0m \u001b[0;31m# wynik\u001b[0m\u001b[0;34m\u001b[0m\u001b[0;34m\u001b[0m\u001b[0m\n\u001b[0m\u001b[1;32m     17\u001b[0m         \u001b[0mlfg_num\u001b[0m\u001b[0;34m.\u001b[0m\u001b[0mappend\u001b[0m\u001b[0;34m(\u001b[0m\u001b[0mop\u001b[0m\u001b[0;34m)\u001b[0m\u001b[0;34m\u001b[0m\u001b[0;34m\u001b[0m\u001b[0m\n\u001b[1;32m     18\u001b[0m         \u001b[0ms\u001b[0m\u001b[0;34m.\u001b[0m\u001b[0mappend\u001b[0m\u001b[0;34m(\u001b[0m\u001b[0mop\u001b[0m\u001b[0;34m)\u001b[0m\u001b[0;34m\u001b[0m\u001b[0;34m\u001b[0m\u001b[0m\n",
      "\u001b[0;31mIndexError\u001b[0m: list index out of range"
     ]
    }
   ],
   "source": [
    "# generowanie liczb losowych na podstawie LFG\n",
    "\n",
    "LFGpop = 1000000 # wielkość populacji\n",
    "\n",
    "# losowy wiersz początkowy na podstawie milisekund\n",
    "millis = int(round(time.time() * 10000000))\n",
    "seed = list(map(int, str(millis)))\n",
    "\n",
    "j = 24\n",
    "k = 55\n",
    "s = seed\n",
    "\n",
    "lfg_num =[]\n",
    "\n",
    "for n in range(int(LFGpop)):\n",
    "        op = (s[j-1] + s[k-1]) % 1000 # wynik\n",
    "        lfg_num.append(op)\n",
    "        s.append(op)\n",
    "        s.pop(0)\n",
    "\n",
    "LFGsample = 50 #wielkość próbki\n",
    "lfg_num_norm = []\n",
    "x2=0\n",
    "\n",
    "while x2 < len(lfg_num):\n",
    "    avg = round((sum(random.sample(lfg_num,LFGsample)))/LFGsample)\n",
    "    lfg_num_norm.append( avg )\n",
    "    x2+=1\n",
    "\n",
    "# wykresy\n",
    "plt.rcParams['axes.grid'] = True\n",
    "f = plt.figure(figsize=(15,5))\n",
    "ax = f.add_subplot(121)\n",
    "ax2 = f.add_subplot(122)\n",
    "\n",
    "\n",
    "ax.hist(lfg_num,bins=50)\n",
    "ax.title.set_text(\"Ilość wystąpień w próbie: \" + str(LFGpop))\n",
    "ax.set_ylabel(\"Liczba wystąpień\")\n",
    "ax.set_xlabel(\"Liczby 0-1000\")\n",
    "\n",
    "ax2.hist(lfg_num_norm,bins=50)\n",
    "ax2.title.set_text(\"Rozkład dla próbki: \" + str(LFGsample) + \" elementów\")\n",
    "ax2.set_ylabel(\"Liczba wystąpień\")\n",
    "ax2.set_xlabel(\"Średnia z próbek\")\n",
    "\n",
    "print('seed: ' + str(seed), 'seed len: ' + str(len(seed)), \n",
    "      #'\\nseed7: ' + str(seed7), 'seed7 len: ' + str(len(seed7)), \n",
    "      '\\nlen lfg_num: '+str(len(lfg_num)), \n",
    "      '\\nsJ: ' +str(s[j-1]), 'sK: '+ str(s[k-1]))"
   ]
  },
  {
   "cell_type": "markdown",
   "metadata": {},
   "source": [
    "# Generowanie liczb losowych Pythona i generowanie rozkładu normalnego na ich podstawie"
   ]
  },
  {
   "cell_type": "code",
   "execution_count": null,
   "metadata": {},
   "outputs": [],
   "source": [
    "len(rand_num)"
   ]
  },
  {
   "cell_type": "code",
   "execution_count": null,
   "metadata": {},
   "outputs": [],
   "source": [
    "# generowanie liczb losowych Pythona\n",
    "PythPop= 2000000\n",
    "rand_num = []\n",
    "\n",
    "for i in range(0,int(PythPop)):\n",
    "    pyth = round(random.uniform(0,999))\n",
    "    rand_num.append(pyth)\n",
    "\n",
    "# wybieranie próbek do rozkładu normlanego z listy Pythona\n",
    "\n",
    "PythSample = 50\n",
    "rand_num_norm = []\n",
    "x3=0\n",
    "\n",
    "while x3 < len(rand_num):\n",
    "   avg = round((sum(random.sample(rand_num,PythSample )))/PythSample)\n",
    "   rand_num_norm.append( avg )\n",
    "   x3+=1\n",
    "\n",
    "# wykresy\n",
    "\n",
    "f = plt.figure(figsize=(15,5))\n",
    "ax3 = f.add_subplot(121)\n",
    "ax4 = f.add_subplot(122)\n",
    "\n",
    "ax3.hist(rand_num,bins=50)\n",
    "ax3.title.set_text(\"Ilość wystąpień w próbie: \" + str(PythPop))\n",
    "ax3.set_ylabel(\"Liczba wystąpień\")\n",
    "ax3.set_xlabel(\"Liczby 0-1000\")\n",
    "\n",
    "ax4.hist(rand_num_norm,bins=50)\n",
    "ax4.title.set_text(\"Rozkład dla próbki: \" + str(PythSample) + \" elementów\")\n",
    "ax4.set_ylabel(\"Liczba wystąpień\")\n",
    "ax4.set_xlabel(\"Średnia z próbek\")"
   ]
  },
  {
   "cell_type": "markdown",
   "metadata": {},
   "source": [
    "# Testowanie rozkładów"
   ]
  },
  {
   "cell_type": "markdown",
   "metadata": {},
   "source": [
    "T-Student dla niezależnych grup "
   ]
  },
  {
   "cell_type": "code",
   "execution_count": null,
   "metadata": {},
   "outputs": [],
   "source": [
    "from scipy.stats import ttest_ind\n",
    "from scipy import stats\n",
    "from scipy.stats import t"
   ]
  },
  {
   "cell_type": "code",
   "execution_count": 28,
   "metadata": {},
   "outputs": [
    {
     "name": "stdout",
     "output_type": "stream",
     "text": [
      "t=2.697, df=59998, cv=1.645, p=0.007\n",
      "Reject the null hypothesis that the means are equal. T_stat > cv\n",
      "Reject the null hypothesis that the means are equal. p <= alpha\n"
     ]
    }
   ],
   "source": [
    "# źródło https://machinelearningmastery.com/how-to-code-the-students-t-test-from-scratch-in-python/\n",
    "\n",
    "def independent_ttest(lfg_num_norm, rand_num_norm, alpha):\n",
    "    # calculate means\n",
    "    mean1, mean2 = mean(lfg_num_norm), mean(rand_num_norm)\n",
    "    # calculate standard errors\n",
    "    se1, se2 = stats.sem(lfg_num_norm), stats.sem(rand_num_norm)\n",
    "    # standard error on the difference between the samples\n",
    "    sed = sqrt(se1**2.0 + se2**2.0)\n",
    "    # calculate the t statistic\n",
    "    t_stat = (mean1 - mean2) / sed\n",
    "    # degrees of freedom\n",
    "    df = len(lfg_num_norm) + len(rand_num_norm) - 2\n",
    "    # calculate the critical value\n",
    "    cv = t.ppf(1.0 - alpha, df)\n",
    "    # calculate the p-value\n",
    "    p = (1.0 - t.cdf(abs(t_stat), df)) * 2.0\n",
    "    # return everything\n",
    "    return t_stat, df, cv, p\n",
    "\n",
    "alpha = 0.05\n",
    "t_stat, df, cv, p = independent_ttest(lfg_num_norm, rand_num_norm, alpha)\n",
    "print('t=%.3f, df=%d, cv=%.3f, p=%.3f' % (t_stat, df, cv, p))\n",
    "# interpret via critical value\n",
    "if abs(t_stat) <= cv:\n",
    "    print('Accept null hypothesis that the means are equal. T_stat <= cv')\n",
    "else:\n",
    "    print('Reject the null hypothesis that the means are equal. T_stat > cv')\n",
    "# interpret via p-value\n",
    "if p > alpha:\n",
    "    print('Accept null hypothesis that the means are equal. p > alpha')\n",
    "else:\n",
    "    print('Reject the null hypothesis that the means are equal. p <= alpha')"
   ]
  },
  {
   "cell_type": "markdown",
   "metadata": {},
   "source": [
    "# Chisquare"
   ]
  },
  {
   "cell_type": "code",
   "execution_count": 29,
   "metadata": {},
   "outputs": [
    {
     "data": {
      "text/plain": [
       "Power_divergenceResult(statistic=2073.9749537836983, pvalue=1.7812885636994917e-77)"
      ]
     },
     "execution_count": 29,
     "metadata": {},
     "output_type": "execute_result"
    }
   ],
   "source": [
    "#http://specminor.org/2017/01/08/performing-chi-squared-gof-python.html\n",
    "from collections import Counter\n",
    "from scipy.stats import chisquare\n",
    "\n",
    "lfg_num_np = np.array(lfg_num) # ciąg liczb z LFG\n",
    "rand_num_np = np.array(rand_num) # ciąg liczb z pythona\n",
    "\n",
    "#zliczanie wystapień poszczególnych liczb counterem\n",
    "lfg_num_count = Counter(lfg_num_np)\n",
    "rand_num_count = Counter(rand_num_np)\n",
    "\n",
    "#zliczanie wystapień poszczególnych liczb numpy'em i tworzenie z nich dictów\n",
    "unique, counts = np.unique(lfg_num_np, return_counts=True)\n",
    "lfg_num_dict = dict(zip(unique, counts))\n",
    "\n",
    "unique, counts = np.unique(rand_num_np, return_counts=True)\n",
    "rand_num_dict = dict(zip(unique, counts))\n",
    "\n",
    "#wyciąganie z dictów wartości\n",
    "lfg_num_dict_vlist = list(lfg_num_dict.values())\n",
    "rand_num_dict_vlist = list(rand_num_dict.values())\n",
    "\n",
    "#statystyka Chi^2\n",
    "chisquare(lfg_num_dict_vlist, f_exp=rand_num_dict_vlist)"
   ]
  },
  {
   "cell_type": "code",
   "execution_count": 30,
   "metadata": {},
   "outputs": [
    {
     "name": "stdout",
     "output_type": "stream",
     "text": [
      "Chi^2 stat: count    2073.974954\n",
      "dtype: float64\n",
      "Critical value :16.918977604620448\n",
      "P value[0.]\n"
     ]
    },
    {
     "data": {
      "text/plain": [
       "Power_divergenceResult(statistic=array([2073.97495378]), pvalue=array([1.78128856e-77]))"
      ]
     },
     "execution_count": 30,
     "metadata": {},
     "output_type": "execute_result"
    }
   ],
   "source": [
    "#http://hamelg.blogspot.com/2015/11/python-for-data-analysis-part-25-chi.html\n",
    "# robienie z dictów data framów i transpozycja\n",
    "lfg_num_df = pd.DataFrame.from_dict([lfg_num_dict])\n",
    "lfg_num_dfT = lfg_num_df.T\n",
    "\n",
    "rand_num_df = pd.DataFrame.from_dict([rand_num_dict])\n",
    "rand_num_dfT = rand_num_df.T\n",
    "\n",
    "#nazywanie kolumn\n",
    "lfg_num_dfT = lfg_num_dfT.rename(columns={0:'count'})\n",
    "rand_num_dfT = rand_num_dfT.rename(columns={0:'count'})\n",
    "\n",
    "#zebranie danych do wzoru na statystykę Chi^2\n",
    "observed = lfg_num_dfT\n",
    "rand_num_ratio = rand_num_dfT/len(rand_num_dfT)\n",
    "expected = rand_num_ratio * len(lfg_num_dfT)\n",
    "chi_squared_stat = (((observed-expected)**2)/expected).sum()\n",
    "\n",
    "# liczenie p-value\n",
    "crit = stats.chi2.ppf(q = 0.95, # Find the critical value for 95% confidence*\n",
    "                      df = 9)   # Df = number of variable categories - 1\n",
    "\n",
    "p_value = 1 - stats.chi2.cdf(x=chi_squared_stat,  # Find the p-value\n",
    "                             df=9)\n",
    "\n",
    "print('Chi^2 stat: ' + str(chi_squared_stat))\n",
    "print(\"Critical value :\" + str(crit))\n",
    "print(\"P value\" + str(p_value))\n",
    "stats.chisquare(f_obs= observed,   # Array of observed counts\n",
    "                f_exp= expected)   # Array of expected counts"
   ]
  },
  {
   "cell_type": "markdown",
   "metadata": {},
   "source": [
    "# Test Kołmogorowa-Smirnowa"
   ]
  },
  {
   "cell_type": "code",
   "execution_count": null,
   "metadata": {
    "scrolled": true
   },
   "outputs": [],
   "source": [
    "#dane jakich potrzebuje test to: ciąg liczb oraz rozkład, z którym będzie on porównywany\n",
    "#lfg_num liczby wygenerowane przez LFG\n",
    "stats.kstest(lfg_num, 'uniform')\n",
    "#p-value bliskie 0 znaczy o odrzuceniu hipotezy zerowej, która zakłada że ciąg jest zgodny z rozkładem jednorodnym (uniform)"
   ]
  },
  {
   "cell_type": "code",
   "execution_count": null,
   "metadata": {},
   "outputs": [],
   "source": [
    "#lfg_num_norm liczby z lfg_num próbkowane aby stworzyć rozkład normalny\n",
    "stats.kstest(lfg_num_norm, 'norm')\n",
    "#p-value bliskie 0 znaczy o odrzuceniu hipotezy zerowej, która zakłada że ciąg jest zgodny z rozkładem normalnym"
   ]
  },
  {
   "cell_type": "code",
   "execution_count": null,
   "metadata": {},
   "outputs": [],
   "source": [
    "#lfg_num liczby wygenerowane przez LFG\n",
    "stats.kstest(rand_num, 'uniform')\n",
    "#p-value bliskie 0 znaczy o odrzuceniu hipotezy zerowej, która zakłada że ciąg jest zgodny z rozkładem jednorodnym (uniform)"
   ]
  },
  {
   "cell_type": "code",
   "execution_count": null,
   "metadata": {},
   "outputs": [],
   "source": [
    "#lfg_num_norm liczby z lfg_num próbkowane aby stworzyć rozkład normalny\n",
    "stats.kstest(rand_num_norm, 'norm')\n",
    "#p-value bliskie 0 znaczy o odrzuceniu hipotezy zerowej, która zakłada że ciąg jest zgodny z rozkładem normalnym"
   ]
  }
 ],
 "metadata": {
  "kernelspec": {
   "display_name": "Python 3",
   "language": "python",
   "name": "python3"
  },
  "language_info": {
   "codemirror_mode": {
    "name": "ipython",
    "version": 3
   },
   "file_extension": ".py",
   "mimetype": "text/x-python",
   "name": "python",
   "nbconvert_exporter": "python",
   "pygments_lexer": "ipython3",
   "version": "3.7.3"
  }
 },
 "nbformat": 4,
 "nbformat_minor": 2
}
